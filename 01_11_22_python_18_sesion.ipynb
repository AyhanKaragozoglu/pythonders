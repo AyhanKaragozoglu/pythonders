{
  "nbformat": 4,
  "nbformat_minor": 0,
  "metadata": {
    "colab": {
      "provenance": [],
      "authorship_tag": "ABX9TyMCzBANkuz3rk2GG9xJQOFa"
    },
    "kernelspec": {
      "name": "python3",
      "display_name": "Python 3"
    },
    "language_info": {
      "name": "python"
    }
  },
  "cells": [
    {
      "cell_type": "code",
      "execution_count": 29,
      "metadata": {
        "colab": {
          "base_uri": "https://localhost:8080/"
        },
        "id": "eP4yl3viaZW_",
        "outputId": "e999d85d-a5f8-47ba-bfa1-695c61a17198"
      },
      "outputs": [
        {
          "output_type": "stream",
          "name": "stdout",
          "text": [
            "[1, 4, 9, 16, 25, 36, 49]\n"
          ]
        }
      ],
      "source": [
        "def fonk(a):\n",
        "  return a ** 2\n",
        "iterable = [1, 2, 3, 4 ,5, 6, 7]\n",
        "x = map(fonk, iterable)\n",
        "print(list(x))"
      ]
    },
    {
      "cell_type": "code",
      "source": [
        "nums = [3, 6, 7, 4]\n",
        "nums2 = [9, 6, 5, 8]\n",
        "func = lambda x, y : (x+y) / 2 \n",
        "num = map(func,nums, nums2)\n",
        "print(list(num))"
      ],
      "metadata": {
        "colab": {
          "base_uri": "https://localhost:8080/"
        },
        "id": "z1jiYDP0eOmG",
        "outputId": "a545cfc8-7a17-4987-dce4-76fe1f38c454"
      },
      "execution_count": 8,
      "outputs": [
        {
          "output_type": "stream",
          "name": "stdout",
          "text": [
            "[6.0, 6.0, 6.0, 6.0]\n"
          ]
        }
      ]
    },
    {
      "cell_type": "code",
      "source": [
        "words1 = [\"you\", \"much \", \"hard \"]\n",
        "words2 = [\"i\", \"you\", \"he\"]\n",
        "words3 = [\"love\", \"eat\", \"works\"]\n",
        "a = lambda x, y, z : x  + \" \" + y  + \" \" + \" \" + z \n",
        "list(map(a, words2, words3, words1))\n",
        "\n",
        "\n",
        "\n"
      ],
      "metadata": {
        "colab": {
          "base_uri": "https://localhost:8080/"
        },
        "id": "jZ3EtOAUe708",
        "outputId": "d8759a28-fdad-45ad-bc82-ecde0a0f17dc"
      },
      "execution_count": 21,
      "outputs": [
        {
          "output_type": "execute_result",
          "data": {
            "text/plain": [
              "['i love  you', 'you eat  much ', 'he works  hard ']"
            ]
          },
          "metadata": {},
          "execution_count": 21
        }
      ]
    },
    {
      "cell_type": "code",
      "source": [
        "filter()\n",
        "\n",
        "\n"
      ],
      "metadata": {
        "id": "X1W7wJUFk4MA"
      },
      "execution_count": null,
      "outputs": []
    },
    {
      "cell_type": "code",
      "source": [
        "first = [1, 2, 3, 4, 5, 6, 7, 8, 9, 10]\n",
        "even =filter(lambda x : x % 2 == 0 , first)\n",
        "print(list(even))"
      ],
      "metadata": {
        "colab": {
          "base_uri": "https://localhost:8080/"
        },
        "id": "XU-9uNX2lu8w",
        "outputId": "c5c02d42-22b6-441a-d2f2-4098ccb1c5a5"
      },
      "execution_count": 25,
      "outputs": [
        {
          "output_type": "stream",
          "name": "stdout",
          "text": [
            "[2, 4, 6, 8, 10]\n"
          ]
        }
      ]
    },
    {
      "cell_type": "code",
      "source": [
        "odd = filter(lambda x : x % 2 != 0, first)\n",
        "odd2 = filter(lambda x : x % 2 == 1, first)\n",
        "odd3 = filter(lambda x : not x % 2 == 0, first)\n",
        "odd4 = filter(lambda x : x % 2 != 0, first)"
      ],
      "metadata": {
        "id": "pqBZcJGImtGj"
      },
      "execution_count": null,
      "outputs": []
    },
    {
      "cell_type": "code",
      "source": [
        "words = [\"apple\", \"swim\",\"clock\",\"me\", \"kiwi\", \"banana\"]\n",
        "k = filter(lambda x :  len(x) < 5 , words)\n",
        "print(list(k))"
      ],
      "metadata": {
        "colab": {
          "base_uri": "https://localhost:8080/"
        },
        "id": "8xbttolDnb_3",
        "outputId": "10f59259-29fa-48de-e0f3-c483c8411d29"
      },
      "execution_count": 31,
      "outputs": [
        {
          "output_type": "stream",
          "name": "stdout",
          "text": [
            "['swim', 'me', 'kiwi']\n"
          ]
        }
      ]
    },
    {
      "cell_type": "code",
      "source": [
        "for i in filter(lambda x : len(x) < 5, words):\n",
        "  print(i)\n",
        "\n"
      ],
      "metadata": {
        "colab": {
          "base_uri": "https://localhost:8080/"
        },
        "id": "1vLhiJgWo0Vl",
        "outputId": "53b05d15-9a67-4e2b-8de8-722b5119a0ff"
      },
      "execution_count": 37,
      "outputs": [
        {
          "output_type": "stream",
          "name": "stdout",
          "text": [
            "swim\n",
            "me\n",
            "kiwi\n"
          ]
        }
      ]
    },
    {
      "cell_type": "code",
      "source": [
        "letter1 = \"a b c\".split()"
      ],
      "metadata": {
        "id": "fUDfgRHlpjSu"
      },
      "execution_count": 38,
      "outputs": []
    },
    {
      "cell_type": "code",
      "source": [
        "letter2 = \"x y z\".split()\n"
      ],
      "metadata": {
        "id": "Apj7QnG9pjMh"
      },
      "execution_count": 39,
      "outputs": []
    },
    {
      "cell_type": "code",
      "source": [
        "list(map(lambda x, y : (x, y), letter1, letter2))\n"
      ],
      "metadata": {
        "colab": {
          "base_uri": "https://localhost:8080/"
        },
        "id": "bhSbj_uAp0hT",
        "outputId": "40c4c146-241f-4c13-a75b-b73a12eee0af"
      },
      "execution_count": 41,
      "outputs": [
        {
          "output_type": "execute_result",
          "data": {
            "text/plain": [
              "[('a', 'x'), ('b', 'y'), ('c', 'z')]"
            ]
          },
          "metadata": {},
          "execution_count": 41
        }
      ]
    },
    {
      "cell_type": "code",
      "source": [
        "list(zip(letter1, letter2))"
      ],
      "metadata": {
        "colab": {
          "base_uri": "https://localhost:8080/"
        },
        "id": "FY9nmnvMqMDB",
        "outputId": "deb874c1-c1fd-4838-9856-fe07eca4e153"
      },
      "execution_count": 42,
      "outputs": [
        {
          "output_type": "execute_result",
          "data": {
            "text/plain": [
              "[('a', 'x'), ('b', 'y'), ('c', 'z')]"
            ]
          },
          "metadata": {},
          "execution_count": 42
        }
      ]
    },
    {
      "cell_type": "code",
      "source": [
        "map(zip,letter1, letter2)"
      ],
      "metadata": {
        "colab": {
          "base_uri": "https://localhost:8080/"
        },
        "id": "iOgIkuhNqXjd",
        "outputId": "7262a986-5236-47a0-b25c-00782a5afd42"
      },
      "execution_count": 47,
      "outputs": [
        {
          "output_type": "execute_result",
          "data": {
            "text/plain": [
              "<map at 0x7fe5f96af290>"
            ]
          },
          "metadata": {},
          "execution_count": 47
        }
      ]
    },
    {
      "cell_type": "code",
      "source": [
        "birleştir = map(zip,letter1, letter2)\n",
        "list(birleştir)"
      ],
      "metadata": {
        "colab": {
          "base_uri": "https://localhost:8080/"
        },
        "id": "RxTFqdXWqXc_",
        "outputId": "ba9be507-8629-41c0-cc25-6e9517ba8d34"
      },
      "execution_count": 49,
      "outputs": [
        {
          "output_type": "execute_result",
          "data": {
            "text/plain": [
              "[<zip at 0x7fe5f1e8eb40>, <zip at 0x7fe5f1e8e9b0>, <zip at 0x7fe5f1e8eaf0>]"
            ]
          },
          "metadata": {},
          "execution_count": 49
        }
      ]
    },
    {
      "cell_type": "code",
      "source": [
        "birleştir = map(zip,letter1, letter2)\n",
        "for i in birleştir : \n",
        "  for j in i:\n",
        "    print(j)"
      ],
      "metadata": {
        "colab": {
          "base_uri": "https://localhost:8080/"
        },
        "id": "3QguYOVJrB9P",
        "outputId": "6da13005-400d-4264-bdbb-71050636a7bf"
      },
      "execution_count": 52,
      "outputs": [
        {
          "output_type": "stream",
          "name": "stdout",
          "text": [
            "('a', 'x')\n",
            "('b', 'y')\n",
            "('c', 'z')\n"
          ]
        }
      ]
    },
    {
      "cell_type": "code",
      "source": [
        "birleştir = map(zip,letter1, letter2)\n",
        "for i in birleştir : \n",
        "  \n",
        "\n",
        "    print(i)"
      ],
      "metadata": {
        "colab": {
          "base_uri": "https://localhost:8080/"
        },
        "id": "TmDoz97BrqQ5",
        "outputId": "8ac2aec0-a63b-4bf9-86b9-7f3b0e46ad00"
      },
      "execution_count": 55,
      "outputs": [
        {
          "output_type": "stream",
          "name": "stdout",
          "text": [
            "<zip object at 0x7fe5f1ea2f50>\n",
            "<zip object at 0x7fe5f1ea2550>\n",
            "<zip object at 0x7fe5f1ea20a0>\n"
          ]
        }
      ]
    },
    {
      "cell_type": "code",
      "source": [
        "list(zip(letter1[1], letter2[1]))"
      ],
      "metadata": {
        "colab": {
          "base_uri": "https://localhost:8080/"
        },
        "id": "I2Ov7UqMsTJi",
        "outputId": "294ad750-1677-4869-fb0c-1bdc1654dadf"
      },
      "execution_count": 57,
      "outputs": [
        {
          "output_type": "execute_result",
          "data": {
            "text/plain": [
              "[('b', 'y')]"
            ]
          },
          "metadata": {},
          "execution_count": 57
        }
      ]
    },
    {
      "cell_type": "code",
      "source": [
        "first_ten =  [\"a\", \"b\", \"c\", \"d\", \"e\", \"f\", \"g\", \"h\", \"i\", \"j\"]\n",
        "vowel_list = ['a', 'e', 'i', 'o', 'u']\n",
        "f = filter(lambda x : x if x in vowel_list else not x , first_ten)\n",
        "print(list(f))"
      ],
      "metadata": {
        "colab": {
          "base_uri": "https://localhost:8080/"
        },
        "id": "JQjZBZybsnSW",
        "outputId": "a24abc8f-ffca-4295-ad5e-3984b28abe6a"
      },
      "execution_count": 60,
      "outputs": [
        {
          "output_type": "stream",
          "name": "stdout",
          "text": [
            "['a', 'e', 'i']\n"
          ]
        }
      ]
    },
    {
      "cell_type": "code",
      "source": [
        "def repeter(n):\n",
        "  return lambda x : x * n\n",
        "s = repeter(5)\n",
        "\n",
        "print(s(\"yaz\"))\n"
      ],
      "metadata": {
        "colab": {
          "base_uri": "https://localhost:8080/"
        },
        "id": "tk6GHx9I0Yx-",
        "outputId": "2a1a6f98-cbdb-4060-d839-295ba2b801f1"
      },
      "execution_count": 63,
      "outputs": [
        {
          "output_type": "stream",
          "name": "stdout",
          "text": [
            "yazyazyazyazyaz\n"
          ]
        }
      ]
    },
    {
      "cell_type": "code",
      "source": [
        "def functioner():\n",
        "  return lambda x : x + \" :)\"\n",
        "emoji1= functioner()\n",
        "\n",
        "print(emoji1(\"hello\"))"
      ],
      "metadata": {
        "colab": {
          "base_uri": "https://localhost:8080/"
        },
        "id": "t7qjoRKx2WPq",
        "outputId": "690d6f09-cd82-47be-a282-4c85f42540d2"
      },
      "execution_count": 73,
      "outputs": [
        {
          "output_type": "stream",
          "name": "stdout",
          "text": [
            "hello :)\n"
          ]
        }
      ]
    },
    {
      "cell_type": "code",
      "source": [
        "def funk(emoji):\n",
        "  return lambda x : x + emoji\n",
        "smile = funk(\":)\")\n",
        "smile2 = funk(\":(\")\n",
        "print(smile(\"hello\"))\n"
      ],
      "metadata": {
        "colab": {
          "base_uri": "https://localhost:8080/"
        },
        "id": "Wu1MwXoC4CGy",
        "outputId": "f56d9de6-3e15-4030-dce4-c03afd1a7cef"
      },
      "execution_count": 76,
      "outputs": [
        {
          "output_type": "stream",
          "name": "stdout",
          "text": [
            "hello:)\n"
          ]
        }
      ]
    },
    {
      "cell_type": "code",
      "source": [
        "(lambda x : print(x, \":)\"))(111)"
      ],
      "metadata": {
        "colab": {
          "base_uri": "https://localhost:8080/"
        },
        "id": "Alw7ew3M5Kd6",
        "outputId": "54ac8f08-fc60-4c05-e3e3-d034f8a918a9"
      },
      "execution_count": 77,
      "outputs": [
        {
          "output_type": "stream",
          "name": "stdout",
          "text": [
            "111 :)\n"
          ]
        }
      ]
    },
    {
      "cell_type": "code",
      "source": [
        "\n",
        "def function_generator(n):\n",
        "  return lambda x : n(x)\n",
        "ayhan_print = function_generator(print)\n",
        "ayhan_max = function_generator(max)\n",
        "ayhan_bool = function_generator(bool)\n",
        "ayhan_print(\"hello\")\n"
      ],
      "metadata": {
        "colab": {
          "base_uri": "https://localhost:8080/"
        },
        "id": "GwYnbeo96MOE",
        "outputId": "f293185e-64a2-4d33-aaa8-4b89f60ed83a"
      },
      "execution_count": 93,
      "outputs": [
        {
          "output_type": "stream",
          "name": "stdout",
          "text": [
            "hello\n"
          ]
        }
      ]
    },
    {
      "cell_type": "code",
      "source": [
        "ayhan_max([1, 2, 3, 4 ,5 ,6])"
      ],
      "metadata": {
        "colab": {
          "base_uri": "https://localhost:8080/"
        },
        "id": "aY71F0aB8aBM",
        "outputId": "2edd2532-9f79-49d5-9539-53c63bf8f1ba"
      },
      "execution_count": 96,
      "outputs": [
        {
          "output_type": "execute_result",
          "data": {
            "text/plain": [
              "6"
            ]
          },
          "metadata": {},
          "execution_count": 96
        }
      ]
    },
    {
      "cell_type": "code",
      "source": [
        "def x():\n",
        "  return 1, 2, 3, 4"
      ],
      "metadata": {
        "id": "m5d8oK1r9IJf"
      },
      "execution_count": 98,
      "outputs": []
    },
    {
      "cell_type": "code",
      "source": [
        "a, b, c, d = x()\n",
        "a"
      ],
      "metadata": {
        "colab": {
          "base_uri": "https://localhost:8080/"
        },
        "id": "WGEeCBHz9SSL",
        "outputId": "e5dc133d-94ad-4f80-ecbd-2b5f2712cb5b"
      },
      "execution_count": 100,
      "outputs": [
        {
          "output_type": "execute_result",
          "data": {
            "text/plain": [
              "1"
            ]
          },
          "metadata": {},
          "execution_count": 100
        }
      ]
    },
    {
      "cell_type": "code",
      "source": [
        "b"
      ],
      "metadata": {
        "colab": {
          "base_uri": "https://localhost:8080/"
        },
        "id": "s07Vk8WJ9lyo",
        "outputId": "66085f15-8f61-4d77-82a7-5628d0eaedf7"
      },
      "execution_count": 101,
      "outputs": [
        {
          "output_type": "execute_result",
          "data": {
            "text/plain": [
              "2"
            ]
          },
          "metadata": {},
          "execution_count": 101
        }
      ]
    },
    {
      "cell_type": "code",
      "source": [
        "num = [1, 1, 1,  4, 5 ,5]\n"
      ],
      "metadata": {
        "id": "OsC9mfKc9q9k"
      },
      "execution_count": 103,
      "outputs": []
    },
    {
      "cell_type": "code",
      "source": [
        "max(num, key=num.count)"
      ],
      "metadata": {
        "colab": {
          "base_uri": "https://localhost:8080/"
        },
        "id": "Q_0xrhj3-ZcI",
        "outputId": "f351365b-8808-4e5a-df6a-35def8690001"
      },
      "execution_count": 104,
      "outputs": [
        {
          "output_type": "execute_result",
          "data": {
            "text/plain": [
              "1"
            ]
          },
          "metadata": {},
          "execution_count": 104
        }
      ]
    },
    {
      "cell_type": "code",
      "source": [
        "tekrarsayısı = num.count(max(num, key=num.count))\n",
        "tekrarsayısı"
      ],
      "metadata": {
        "colab": {
          "base_uri": "https://localhost:8080/"
        },
        "id": "4rLVmJPI-jfX",
        "outputId": "ea53e925-436b-4df9-dade-e83f687c3d3c"
      },
      "execution_count": 106,
      "outputs": [
        {
          "output_type": "execute_result",
          "data": {
            "text/plain": [
              "3"
            ]
          },
          "metadata": {},
          "execution_count": 106
        }
      ]
    },
    {
      "cell_type": "code",
      "source": [
        "def equl(a, b, c):\n",
        "  num = [a, b, c]\n",
        "  sonuc = num.count(max(num, key=num.count))\n",
        "  if sonuc > 1 :\n",
        "    return sonuc\n",
        "  else:\n",
        "    return 0"
      ],
      "metadata": {
        "id": "0CTnxy49-vub"
      },
      "execution_count": 107,
      "outputs": []
    },
    {
      "cell_type": "code",
      "source": [
        "equl(1,2,3)\n"
      ],
      "metadata": {
        "colab": {
          "base_uri": "https://localhost:8080/"
        },
        "id": "zfyvDCsu_A3T",
        "outputId": "3c359136-e26c-47da-e2f2-096f2cf214d1"
      },
      "execution_count": 109,
      "outputs": [
        {
          "output_type": "execute_result",
          "data": {
            "text/plain": [
              "0"
            ]
          },
          "metadata": {},
          "execution_count": 109
        }
      ]
    },
    {
      "cell_type": "code",
      "source": [
        "equl(1,2,2)"
      ],
      "metadata": {
        "colab": {
          "base_uri": "https://localhost:8080/"
        },
        "id": "KuCBqBqO_qWP",
        "outputId": "4f0b34d7-7ad7-4d88-df58-02a0b0968380"
      },
      "execution_count": 111,
      "outputs": [
        {
          "output_type": "execute_result",
          "data": {
            "text/plain": [
              "2"
            ]
          },
          "metadata": {},
          "execution_count": 111
        }
      ]
    },
    {
      "cell_type": "code",
      "source": [
        "def equl_(*arg):\n",
        "  num = list(arg)\n",
        "  sonucç = num.count(max(num, key=num.count))\n",
        "  if sonucç > 1 :\n",
        "    return sonucç\n",
        "  else:\n",
        "    return 0"
      ],
      "metadata": {
        "id": "nApuH_bz_yZ6"
      },
      "execution_count": 116,
      "outputs": []
    },
    {
      "cell_type": "code",
      "source": [
        "equl_(1, 2, 3, 3, 3, 3, 4, 4 ,5, 5 ,6, 6)"
      ],
      "metadata": {
        "colab": {
          "base_uri": "https://localhost:8080/"
        },
        "id": "iO7vbifw__FF",
        "outputId": "5f04838b-6fe1-462c-91db-5a7ae170c95a"
      },
      "execution_count": 117,
      "outputs": [
        {
          "output_type": "execute_result",
          "data": {
            "text/plain": [
              "4"
            ]
          },
          "metadata": {},
          "execution_count": 117
        }
      ]
    }
  ]
}