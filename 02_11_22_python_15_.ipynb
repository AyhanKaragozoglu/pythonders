{
  "nbformat": 4,
  "nbformat_minor": 0,
  "metadata": {
    "colab": {
      "provenance": [],
      "authorship_tag": "ABX9TyMUdehzo6IdG2EBL5hrTVBX",
      "include_colab_link": true
    },
    "kernelspec": {
      "name": "python3",
      "display_name": "Python 3"
    },
    "language_info": {
      "name": "python"
    }
  },
  "cells": [
    {
      "cell_type": "markdown",
      "metadata": {
        "id": "view-in-github",
        "colab_type": "text"
      },
      "source": [
        "<a href=\"https://colab.research.google.com/github/AyhanKaragozoglu/pythonders/blob/main/02_11_22_python_15_.ipynb\" target=\"_parent\"><img src=\"https://colab.research.google.com/assets/colab-badge.svg\" alt=\"Open In Colab\"/></a>"
      ]
    },
    {
      "cell_type": "code",
      "execution_count": 1,
      "metadata": {
        "id": "hnr6gj91Xi1f"
      },
      "outputs": [],
      "source": [
        "mon, tue, wed, thu, fri, sat, sun = tuple(range(1,8))"
      ]
    },
    {
      "cell_type": "code",
      "source": [
        "mytuple = (\"apple\", \"banana\",\"cherry\")\n",
        "green, yellow, red = mytuple"
      ],
      "metadata": {
        "id": "_sCr2kFoYNrB"
      },
      "execution_count": 2,
      "outputs": []
    },
    {
      "cell_type": "code",
      "source": [
        "green"
      ],
      "metadata": {
        "colab": {
          "base_uri": "https://localhost:8080/",
          "height": 37
        },
        "id": "5clGr88WYhks",
        "outputId": "8029d859-8007-4f1c-9d2d-2a632d4fa67f"
      },
      "execution_count": 3,
      "outputs": [
        {
          "output_type": "execute_result",
          "data": {
            "text/plain": [
              "'apple'"
            ],
            "application/vnd.google.colaboratory.intrinsic+json": {
              "type": "string"
            }
          },
          "metadata": {},
          "execution_count": 3
        }
      ]
    },
    {
      "cell_type": "code",
      "source": [
        "[1, 2, 3] + [\"ali\", \"veli\"]"
      ],
      "metadata": {
        "colab": {
          "base_uri": "https://localhost:8080/"
        },
        "id": "LNXDBoWwYnI9",
        "outputId": "45383e32-b4a8-41d2-978b-1c91dfcf642d"
      },
      "execution_count": 4,
      "outputs": [
        {
          "output_type": "execute_result",
          "data": {
            "text/plain": [
              "[1, 2, 3, 'ali', 'veli']"
            ]
          },
          "metadata": {},
          "execution_count": 4
        }
      ]
    },
    {
      "cell_type": "code",
      "source": [
        "a, b = (10, 20, 30)"
      ],
      "metadata": {
        "colab": {
          "base_uri": "https://localhost:8080/",
          "height": 164
        },
        "id": "nMxcxMOdY1Vh",
        "outputId": "75a6649d-bee6-48a2-f917-bfb3db18c463"
      },
      "execution_count": 5,
      "outputs": [
        {
          "output_type": "error",
          "ename": "ValueError",
          "evalue": "ignored",
          "traceback": [
            "\u001b[0;31m---------------------------------------------------------------------------\u001b[0m",
            "\u001b[0;31mValueError\u001b[0m                                Traceback (most recent call last)",
            "\u001b[0;32m<ipython-input-5-282b018b9602>\u001b[0m in \u001b[0;36m<module>\u001b[0;34m\u001b[0m\n\u001b[0;32m----> 1\u001b[0;31m \u001b[0ma\u001b[0m\u001b[0;34m,\u001b[0m \u001b[0mb\u001b[0m \u001b[0;34m=\u001b[0m \u001b[0;34m(\u001b[0m\u001b[0;36m10\u001b[0m\u001b[0;34m,\u001b[0m \u001b[0;36m20\u001b[0m\u001b[0;34m,\u001b[0m \u001b[0;36m30\u001b[0m\u001b[0;34m)\u001b[0m\u001b[0;34m\u001b[0m\u001b[0;34m\u001b[0m\u001b[0m\n\u001b[0m",
            "\u001b[0;31mValueError\u001b[0m: too many values to unpack (expected 2)"
          ]
        }
      ]
    },
    {
      "cell_type": "code",
      "source": [
        "a, x, b, y = (10, 20, 30, 40)\n"
      ],
      "metadata": {
        "id": "_UtzBARcZJ7Q"
      },
      "execution_count": 6,
      "outputs": []
    },
    {
      "cell_type": "code",
      "source": [
        "a, _, b, _, = (10, 20, 30, 40)\n"
      ],
      "metadata": {
        "id": "4UCjAHc2ZXxr"
      },
      "execution_count": 7,
      "outputs": []
    },
    {
      "cell_type": "code",
      "source": [
        "x, y, z = (11, 12,13, 14, 15)"
      ],
      "metadata": {
        "colab": {
          "base_uri": "https://localhost:8080/",
          "height": 164
        },
        "id": "R4HBg2I3Z4Jh",
        "outputId": "9e6a8d88-9d47-4e69-82a5-f4752bda94ed"
      },
      "execution_count": 8,
      "outputs": [
        {
          "output_type": "error",
          "ename": "ValueError",
          "evalue": "ignored",
          "traceback": [
            "\u001b[0;31m---------------------------------------------------------------------------\u001b[0m",
            "\u001b[0;31mValueError\u001b[0m                                Traceback (most recent call last)",
            "\u001b[0;32m<ipython-input-8-c3a245ae1410>\u001b[0m in \u001b[0;36m<module>\u001b[0;34m\u001b[0m\n\u001b[0;32m----> 1\u001b[0;31m \u001b[0mx\u001b[0m\u001b[0;34m,\u001b[0m \u001b[0my\u001b[0m\u001b[0;34m,\u001b[0m \u001b[0mz\u001b[0m \u001b[0;34m=\u001b[0m \u001b[0;34m(\u001b[0m\u001b[0;36m11\u001b[0m\u001b[0;34m,\u001b[0m \u001b[0;36m12\u001b[0m\u001b[0;34m,\u001b[0m\u001b[0;36m13\u001b[0m\u001b[0;34m,\u001b[0m \u001b[0;36m14\u001b[0m\u001b[0;34m,\u001b[0m \u001b[0;34m)\u001b[0m\u001b[0;34m\u001b[0m\u001b[0;34m\u001b[0m\u001b[0m\n\u001b[0m",
            "\u001b[0;31mValueError\u001b[0m: too many values to unpack (expected 3)"
          ]
        }
      ]
    },
    {
      "cell_type": "code",
      "source": [
        "x, y, *z = (11, 12,13, 14, 15)\n",
        "x"
      ],
      "metadata": {
        "colab": {
          "base_uri": "https://localhost:8080/"
        },
        "id": "o2iqD7loaDt-",
        "outputId": "46775154-98c7-4820-9bae-ab5c704df466"
      },
      "execution_count": 10,
      "outputs": [
        {
          "output_type": "execute_result",
          "data": {
            "text/plain": [
              "11"
            ]
          },
          "metadata": {},
          "execution_count": 10
        }
      ]
    },
    {
      "cell_type": "code",
      "source": [
        "y"
      ],
      "metadata": {
        "colab": {
          "base_uri": "https://localhost:8080/"
        },
        "id": "GKQ5PN_raW6k",
        "outputId": "9fc4fde9-48a3-4878-f81e-6cde4bd2e1b6"
      },
      "execution_count": 11,
      "outputs": [
        {
          "output_type": "execute_result",
          "data": {
            "text/plain": [
              "12"
            ]
          },
          "metadata": {},
          "execution_count": 11
        }
      ]
    },
    {
      "cell_type": "code",
      "source": [
        "z"
      ],
      "metadata": {
        "colab": {
          "base_uri": "https://localhost:8080/"
        },
        "id": "QR365TX3aYcd",
        "outputId": "dd52b624-f74f-469f-afde-4472c737e875"
      },
      "execution_count": 12,
      "outputs": [
        {
          "output_type": "execute_result",
          "data": {
            "text/plain": [
              "[13, 14, 15]"
            ]
          },
          "metadata": {},
          "execution_count": 12
        }
      ]
    },
    {
      "cell_type": "code",
      "source": [
        "x, y, *_ = (11, 12,13, 14, 15, 16, 17)\n"
      ],
      "metadata": {
        "id": "SknmqbH_apxT"
      },
      "execution_count": 13,
      "outputs": []
    },
    {
      "cell_type": "code",
      "source": [
        "x, y, *z, t= (11, 12,13, 14, 15, 16, 17)"
      ],
      "metadata": {
        "id": "WGXXZK3ta2qk"
      },
      "execution_count": 14,
      "outputs": []
    },
    {
      "cell_type": "code",
      "source": [
        "t"
      ],
      "metadata": {
        "colab": {
          "base_uri": "https://localhost:8080/"
        },
        "id": "-7hotonxbDP-",
        "outputId": "f706d7c1-6131-4180-9158-9829b92e045d"
      },
      "execution_count": 15,
      "outputs": [
        {
          "output_type": "execute_result",
          "data": {
            "text/plain": [
              "17"
            ]
          },
          "metadata": {},
          "execution_count": 15
        }
      ]
    },
    {
      "cell_type": "code",
      "source": [
        "z"
      ],
      "metadata": {
        "colab": {
          "base_uri": "https://localhost:8080/"
        },
        "id": "KXL_fe3nbDMq",
        "outputId": "48cb45eb-b5fa-433b-df89-964acd73dc65"
      },
      "execution_count": 16,
      "outputs": [
        {
          "output_type": "execute_result",
          "data": {
            "text/plain": [
              "[13, 14, 15, 16]"
            ]
          },
          "metadata": {},
          "execution_count": 16
        }
      ]
    },
    {
      "cell_type": "code",
      "source": [
        "iter()"
      ],
      "metadata": {
        "id": "CWjhRJRKbL-o"
      },
      "execution_count": null,
      "outputs": []
    },
    {
      "cell_type": "code",
      "source": [
        "mytuple = (\"apple\", \"banana\",\"cherry\")\n",
        "myiterator = iter(mytuple)"
      ],
      "metadata": {
        "id": "vkiclg7tbljV"
      },
      "execution_count": 17,
      "outputs": []
    },
    {
      "cell_type": "code",
      "source": [
        "next(myiterator)"
      ],
      "metadata": {
        "colab": {
          "base_uri": "https://localhost:8080/",
          "height": 37
        },
        "id": "vOL0oovIbs_X",
        "outputId": "0f6f3a0a-f6d1-4435-97aa-199f47c200bc"
      },
      "execution_count": 20,
      "outputs": [
        {
          "output_type": "execute_result",
          "data": {
            "text/plain": [
              "'apple'"
            ],
            "application/vnd.google.colaboratory.intrinsic+json": {
              "type": "string"
            }
          },
          "metadata": {},
          "execution_count": 20
        }
      ]
    },
    {
      "cell_type": "code",
      "source": [
        "next(myiterator)"
      ],
      "metadata": {
        "colab": {
          "base_uri": "https://localhost:8080/",
          "height": 37
        },
        "id": "yc0JLbq5cMK5",
        "outputId": "ab58e5bb-3170-4557-c8ba-cc047dd175c5"
      },
      "execution_count": 21,
      "outputs": [
        {
          "output_type": "execute_result",
          "data": {
            "text/plain": [
              "'banana'"
            ],
            "application/vnd.google.colaboratory.intrinsic+json": {
              "type": "string"
            }
          },
          "metadata": {},
          "execution_count": 21
        }
      ]
    },
    {
      "cell_type": "code",
      "source": [
        "next(myiterator)"
      ],
      "metadata": {
        "colab": {
          "base_uri": "https://localhost:8080/",
          "height": 37
        },
        "id": "WaTJUs15cL-2",
        "outputId": "a99a90bf-892c-4f88-e1eb-c2ccef66885d"
      },
      "execution_count": 22,
      "outputs": [
        {
          "output_type": "execute_result",
          "data": {
            "text/plain": [
              "'cherry'"
            ],
            "application/vnd.google.colaboratory.intrinsic+json": {
              "type": "string"
            }
          },
          "metadata": {},
          "execution_count": 22
        }
      ]
    },
    {
      "cell_type": "code",
      "source": [
        "next(myiterator)"
      ],
      "metadata": {
        "colab": {
          "base_uri": "https://localhost:8080/",
          "height": 164
        },
        "id": "aPv3oRDhcL7x",
        "outputId": "e89f035b-1ff7-47e1-ecbe-eac1a923128e"
      },
      "execution_count": 23,
      "outputs": [
        {
          "output_type": "error",
          "ename": "StopIteration",
          "evalue": "ignored",
          "traceback": [
            "\u001b[0;31m---------------------------------------------------------------------------\u001b[0m",
            "\u001b[0;31mStopIteration\u001b[0m                             Traceback (most recent call last)",
            "\u001b[0;32m<ipython-input-23-29fb3b4dbbec>\u001b[0m in \u001b[0;36m<module>\u001b[0;34m\u001b[0m\n\u001b[0;32m----> 1\u001b[0;31m \u001b[0mnext\u001b[0m\u001b[0;34m(\u001b[0m\u001b[0mmyiterator\u001b[0m\u001b[0;34m)\u001b[0m\u001b[0;34m\u001b[0m\u001b[0;34m\u001b[0m\u001b[0m\n\u001b[0m",
            "\u001b[0;31mStopIteration\u001b[0m: "
          ]
        }
      ]
    },
    {
      "cell_type": "code",
      "source": [
        "sayılar = []\n",
        "for n in range(5):\n",
        "  sayılar.append(n)\n",
        "print(sayılar)"
      ],
      "metadata": {
        "colab": {
          "base_uri": "https://localhost:8080/"
        },
        "id": "BsXpLdHMcZks",
        "outputId": "0130e0af-290e-4eb6-92a8-c8de188eac0b"
      },
      "execution_count": 25,
      "outputs": [
        {
          "output_type": "stream",
          "name": "stdout",
          "text": [
            "[0, 1, 2, 3, 4]\n"
          ]
        }
      ]
    },
    {
      "cell_type": "code",
      "source": [
        "sayılar = []\n",
        "for n in range(5):\n",
        "  print(n)\n",
        "  sayılar.append(n)\n",
        "print(sayılar)"
      ],
      "metadata": {
        "colab": {
          "base_uri": "https://localhost:8080/"
        },
        "id": "ttVWSPVOiBMV",
        "outputId": "1b69e9bb-3547-46e7-a512-34d5d32253ba"
      },
      "execution_count": 26,
      "outputs": [
        {
          "output_type": "stream",
          "name": "stdout",
          "text": [
            "0\n",
            "1\n",
            "2\n",
            "3\n",
            "4\n",
            "[0, 1, 2, 3, 4]\n"
          ]
        }
      ]
    },
    {
      "cell_type": "code",
      "source": [
        "sayılar = []\n",
        "for n in range(5):\n",
        "  sayılar.append(n) \n",
        "  print(sayılar)\n",
        "print(sayılar)"
      ],
      "metadata": {
        "colab": {
          "base_uri": "https://localhost:8080/"
        },
        "id": "pM3MYD8ZiLmX",
        "outputId": "77d25732-6bad-4989-a04f-2b587de23b00"
      },
      "execution_count": 29,
      "outputs": [
        {
          "output_type": "stream",
          "name": "stdout",
          "text": [
            "[0]\n",
            "[0, 1]\n",
            "[0, 1, 2]\n",
            "[0, 1, 2, 3]\n",
            "[0, 1, 2, 3, 4]\n",
            "[0, 1, 2, 3, 4]\n"
          ]
        }
      ]
    },
    {
      "cell_type": "code",
      "source": [
        "[i for i in range(5)]"
      ],
      "metadata": {
        "colab": {
          "base_uri": "https://localhost:8080/"
        },
        "id": "u9w9x1KniX08",
        "outputId": "942af2d9-c7cc-4ec1-ad94-f1cd2539ceb6"
      },
      "execution_count": 32,
      "outputs": [
        {
          "output_type": "execute_result",
          "data": {
            "text/plain": [
              "[0, 1, 2, 3, 4]"
            ]
          },
          "metadata": {},
          "execution_count": 32
        }
      ]
    },
    {
      "cell_type": "code",
      "source": [
        "[i ** 2 for i in range(5)]"
      ],
      "metadata": {
        "colab": {
          "base_uri": "https://localhost:8080/"
        },
        "id": "xq1Ujdldiyc0",
        "outputId": "ac0268a2-739b-4190-8c1f-8b6b8d828f87"
      },
      "execution_count": 35,
      "outputs": [
        {
          "output_type": "execute_result",
          "data": {
            "text/plain": [
              "[0, 1, 4, 9, 16]"
            ]
          },
          "metadata": {},
          "execution_count": 35
        }
      ]
    },
    {
      "cell_type": "code",
      "source": [
        "[i ** 3 for i in range(5)]"
      ],
      "metadata": {
        "colab": {
          "base_uri": "https://localhost:8080/"
        },
        "id": "BN-_VEQejFcM",
        "outputId": "46d174c2-3528-4b5a-c2bb-b4f3c9a74f10"
      },
      "execution_count": 36,
      "outputs": [
        {
          "output_type": "execute_result",
          "data": {
            "text/plain": [
              "[0, 1, 8, 27, 64]"
            ]
          },
          "metadata": {},
          "execution_count": 36
        }
      ]
    },
    {
      "cell_type": "code",
      "source": [
        "yazarlar = [\"jane austen\", \"george orwell\", \"james clear\", \"cal newport\"]\n",
        "\n",
        "yazar_listesi = [i.title() for i in yazarlar]"
      ],
      "metadata": {
        "id": "B7BX0q82kBQi"
      },
      "execution_count": 37,
      "outputs": []
    },
    {
      "cell_type": "code",
      "source": [
        "yazar_listesi"
      ],
      "metadata": {
        "colab": {
          "base_uri": "https://localhost:8080/"
        },
        "id": "gkSf_ujYkqrS",
        "outputId": "d5d277f7-8ea6-4ad7-97a0-f40cca51edf1"
      },
      "execution_count": 38,
      "outputs": [
        {
          "output_type": "execute_result",
          "data": {
            "text/plain": [
              "['Jane Austen', 'George Orwell', 'James Clear', 'Cal Newport']"
            ]
          },
          "metadata": {},
          "execution_count": 38
        }
      ]
    },
    {
      "cell_type": "code",
      "source": [
        "a = [4, 5, 6, 7]\n",
        "b = [8, 9, 10, 11]\n",
        "\n",
        "zip(a, b)"
      ],
      "metadata": {
        "colab": {
          "base_uri": "https://localhost:8080/"
        },
        "id": "QVlwt73Vk1jY",
        "outputId": "24ae14cf-a0c5-4157-a99b-49f484434563"
      },
      "execution_count": 40,
      "outputs": [
        {
          "output_type": "execute_result",
          "data": {
            "text/plain": [
              "<zip at 0x7f7016922a00>"
            ]
          },
          "metadata": {},
          "execution_count": 40
        }
      ]
    },
    {
      "cell_type": "code",
      "source": [
        "list(zip(a, b))\n"
      ],
      "metadata": {
        "colab": {
          "base_uri": "https://localhost:8080/"
        },
        "id": "aC9rIBS_lK3p",
        "outputId": "4e719a21-fabd-4d47-c6cd-449c6534fea8"
      },
      "execution_count": 41,
      "outputs": [
        {
          "output_type": "execute_result",
          "data": {
            "text/plain": [
              "[(4, 8), (5, 9), (6, 10), (7, 11)]"
            ]
          },
          "metadata": {},
          "execution_count": 41
        }
      ]
    },
    {
      "cell_type": "code",
      "source": [
        "alan_liste = []\n",
        "for i in zip(a, b):\n",
        "  alan_liste.append(i)\n",
        "alan_liste"
      ],
      "metadata": {
        "colab": {
          "base_uri": "https://localhost:8080/"
        },
        "id": "ieVNc-dVlYFQ",
        "outputId": "58bea057-1a07-40a8-9ccd-fae795512df8"
      },
      "execution_count": 42,
      "outputs": [
        {
          "output_type": "execute_result",
          "data": {
            "text/plain": [
              "[(4, 8), (5, 9), (6, 10), (7, 11)]"
            ]
          },
          "metadata": {},
          "execution_count": 42
        }
      ]
    },
    {
      "cell_type": "markdown",
      "source": [],
      "metadata": {
        "id": "IwG2RvYKk1P4"
      }
    },
    {
      "cell_type": "code",
      "source": [
        "liste = list(zip(a, b))\n",
        "alan = []\n",
        "for i in range(len(liste)) :\n",
        "  j, k = liste[i]\n",
        "  alan.append(j * k)\n",
        "alan"
      ],
      "metadata": {
        "colab": {
          "base_uri": "https://localhost:8080/"
        },
        "id": "nwxA9B2ylY2t",
        "outputId": "9197b9e2-902a-4227-b9f0-cc14fb5cef6e"
      },
      "execution_count": 44,
      "outputs": [
        {
          "output_type": "execute_result",
          "data": {
            "text/plain": [
              "[32, 45, 60, 77]"
            ]
          },
          "metadata": {},
          "execution_count": 44
        }
      ]
    },
    {
      "cell_type": "code",
      "source": [
        "alan = []\n",
        "for i, j in liste :\n",
        "  alan.append(i * j)\n",
        "print(alan)"
      ],
      "metadata": {
        "colab": {
          "base_uri": "https://localhost:8080/"
        },
        "id": "XTnGk7ACmtBH",
        "outputId": "5f4a1ede-375f-4859-d5d8-d05ea91a9a3d"
      },
      "execution_count": 46,
      "outputs": [
        {
          "output_type": "stream",
          "name": "stdout",
          "text": [
            "[32, 45, 60, 77]\n"
          ]
        }
      ]
    },
    {
      "cell_type": "code",
      "source": [
        "area = [i * j for i, j in liste]\n",
        "area"
      ],
      "metadata": {
        "colab": {
          "base_uri": "https://localhost:8080/"
        },
        "id": "X-TrTlAknYtc",
        "outputId": "7e5219a8-3387-4ed2-e212-ed433c4074a4"
      },
      "execution_count": 48,
      "outputs": [
        {
          "output_type": "execute_result",
          "data": {
            "text/plain": [
              "[32, 45, 60, 77]"
            ]
          },
          "metadata": {},
          "execution_count": 48
        }
      ]
    },
    {
      "cell_type": "code",
      "source": [
        "\n",
        "abs()\n",
        "aiter()\n",
        "all()\n",
        "any()\n",
        "anext()\n",
        "ascii()\n",
        "\n",
        "\n",
        "bin()\n",
        "bool()\n",
        "breakpoint()\n",
        "bytearray()\n",
        "bytes()\n",
        "\n",
        "C\n",
        "callable()\n",
        "chr()\n",
        "classmethod()\n",
        "compile()\n",
        "complex()\n",
        "\n",
        "D\n",
        "delattr()\n",
        "dict()\n",
        "dir()\n",
        "divmod()\n",
        "\n",
        "E\n",
        "enumerate()\n",
        "eval()\n",
        "exec()\n",
        "\n",
        "F\n",
        "filter()\n",
        "float()\n",
        "format()\n",
        "frozenset()\n",
        "\n",
        "G\n",
        "getattr()\n",
        "globals()\n",
        "\n",
        "H\n",
        "hasattr()\n",
        "hash()\n",
        "help()\n",
        "hex()\n",
        "\n",
        "I\n",
        "id()\n",
        "input()\n",
        "int()\n",
        "isinstance()\n",
        "issubclass()\n",
        "iter()\n",
        "L\n",
        "len()\n",
        "list()\n",
        "locals()\n",
        "\n",
        "M\n",
        "map()\n",
        "max()\n",
        "memoryview()\n",
        "min()\n",
        "\n",
        "N\n",
        "next()\n",
        "\n",
        "O\n",
        "object()\n",
        "oct()\n",
        "open()\n",
        "ord()\n",
        "\n",
        "P\n",
        "pow()\n",
        "print()\n",
        "property()\n",
        "\n",
        "\n",
        "\n",
        "\n",
        "\n",
        "range()\n",
        "repr()\n",
        "reversed()\n",
        "round()\n",
        "\n",
        "S\n",
        "set()\n",
        "setattr()\n",
        "slice()\n",
        "sorted()\n",
        "staticmethod()\n",
        "str()\n",
        "sum()\n",
        "super()\n",
        "\n",
        "T\n",
        "tuple()\n",
        "type()\n",
        "\n",
        "V\n",
        "vars()\n",
        "\n",
        "Z\n",
        "zip()\n",
        "\n",
        "_\n",
        "__import__()\n"
      ],
      "metadata": {
        "colab": {
          "base_uri": "https://localhost:8080/",
          "height": 232
        },
        "id": "5r8pNKSmoHDl",
        "outputId": "17065a02-9824-4ca5-f881-33b3aa9a14d2"
      },
      "execution_count": 49,
      "outputs": [
        {
          "output_type": "error",
          "ename": "TypeError",
          "evalue": "ignored",
          "traceback": [
            "\u001b[0;31m---------------------------------------------------------------------------\u001b[0m",
            "\u001b[0;31mTypeError\u001b[0m                                 Traceback (most recent call last)",
            "\u001b[0;32m<ipython-input-49-27a611a2ff7b>\u001b[0m in \u001b[0;36m<module>\u001b[0;34m\u001b[0m\n\u001b[0;32m----> 1\u001b[0;31m \u001b[0mabs\u001b[0m\u001b[0;34m(\u001b[0m\u001b[0;34m)\u001b[0m\u001b[0;34m\u001b[0m\u001b[0;34m\u001b[0m\u001b[0m\n\u001b[0m\u001b[1;32m      2\u001b[0m \u001b[0maiter\u001b[0m\u001b[0;34m(\u001b[0m\u001b[0;34m)\u001b[0m\u001b[0;34m\u001b[0m\u001b[0;34m\u001b[0m\u001b[0m\n\u001b[1;32m      3\u001b[0m \u001b[0mall\u001b[0m\u001b[0;34m(\u001b[0m\u001b[0;34m)\u001b[0m\u001b[0;34m\u001b[0m\u001b[0;34m\u001b[0m\u001b[0m\n\u001b[1;32m      4\u001b[0m \u001b[0many\u001b[0m\u001b[0;34m(\u001b[0m\u001b[0;34m)\u001b[0m\u001b[0;34m\u001b[0m\u001b[0;34m\u001b[0m\u001b[0m\n\u001b[1;32m      5\u001b[0m \u001b[0manext\u001b[0m\u001b[0;34m(\u001b[0m\u001b[0;34m)\u001b[0m\u001b[0;34m\u001b[0m\u001b[0;34m\u001b[0m\u001b[0m\n",
            "\u001b[0;31mTypeError\u001b[0m: abs() takes exactly one argument (0 given)"
          ]
        }
      ]
    },
    {
      "cell_type": "code",
      "source": [],
      "metadata": {
        "id": "onDBP2nuzHfb"
      },
      "execution_count": null,
      "outputs": []
    }
  ]
}